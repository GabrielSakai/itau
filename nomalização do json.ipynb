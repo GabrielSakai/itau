{
 "cells": [
  {
   "cell_type": "code",
   "execution_count": 0,
   "metadata": {
    "application/vnd.databricks.v1+cell": {
     "cellMetadata": {
      "byteLimit": 2048000,
      "rowLimit": 10000
     },
     "inputWidgets": {},
     "nuid": "e7ba803d-ed7d-438b-ae79-f9a1073406a6",
     "showTitle": false,
     "title": ""
    }
   },
   "outputs": [],
   "source": [
    "from pyspark.sql.functions import *"
   ]
  },
  {
   "cell_type": "code",
   "execution_count": 0,
   "metadata": {
    "application/vnd.databricks.v1+cell": {
     "cellMetadata": {
      "byteLimit": 2048000,
      "rowLimit": 10000
     },
     "inputWidgets": {},
     "nuid": "5cdb8739-b658-469e-b5dd-473862935b5a",
     "showTitle": false,
     "title": ""
    }
   },
   "outputs": [
    {
     "output_type": "execute_result",
     "data": {
      "text/plain": [
       "DataFrame[cod_idef_clie: string, dat_atui: timestamp, dat_hor_tran: timestamp, list_envo: array<struct<cod_tipo_entg:string,cod_venr:string,dat_emis_cpvt:string,list_item_envo:array<struct<cod_prod:string,cod_prod_venr:string,qtd_prod:bigint,stat_entg:string>>,nom_stat_entg:string,objt_des_stat_rtmt:struct<dat_envo_rtmt:string>>>, list_item_pedi: array<struct<cod_ofrt_ineo_requ:string,cod_vrne_prod:string,idt_venr:string,idt_vrne_venr:string,nom_item:string,nom_prod_orig:string,nom_venr:string,qtd_item_pedi:bigint,txt_plae_otmz_url_prod:string,vlr_desc_envo:double,vlr_oril:double,vlr_prod:double,vlr_prod_ofrt_desc:double>>, stat_pedi: string, stat_pgto: string, txt_detl_idt_pedi_pgto: string]"
      ]
     },
     "execution_count": 2,
     "metadata": {},
     "output_type": "execute_result"
    }
   ],
   "source": [
    "#le todos os jsons dentro do repositorio e transforma o campo de data de string para timestamp\n",
    "df = spark.read.option(\"multiline\",\"true\").json('dbfs:/FileStore/eventos_json/*').withColumn('dat_atui',col('dat_atui').cast('timestamp')).withColumn('dat_hor_tran',col('dat_hor_tran').cast('timestamp'))\n",
    "\n",
    "df.persist()"
   ]
  },
  {
   "cell_type": "code",
   "execution_count": 0,
   "metadata": {
    "application/vnd.databricks.v1+cell": {
     "cellMetadata": {
      "byteLimit": 2048000,
      "rowLimit": 10000
     },
     "inputWidgets": {},
     "nuid": "1f0d1f95-dfaf-4773-b4c0-2bad9df339ef",
     "showTitle": false,
     "title": ""
    }
   },
   "outputs": [
    {
     "output_type": "execute_result",
     "data": {
      "text/plain": [
       "DataFrame[cod_idef_clie: string, dat_atui: timestamp, dat_hor_tran: timestamp, list_envo: struct<cod_tipo_entg:string,cod_venr:string,dat_emis_cpvt:string,list_item_envo:array<struct<cod_prod:string,cod_prod_venr:string,qtd_prod:bigint,stat_entg:string>>,nom_stat_entg:string,objt_des_stat_rtmt:struct<dat_envo_rtmt:string>>, list_item_pedi: struct<cod_ofrt_ineo_requ:string,cod_vrne_prod:string,idt_venr:string,idt_vrne_venr:string,nom_item:string,nom_prod_orig:string,nom_venr:string,qtd_item_pedi:bigint,txt_plae_otmz_url_prod:string,vlr_desc_envo:double,vlr_oril:double,vlr_prod:double,vlr_prod_ofrt_desc:double>, stat_pedi: string, stat_pgto: string, txt_detl_idt_pedi_pgto: string, last_status_date: timestamp]"
      ]
     },
     "execution_count": 3,
     "metadata": {},
     "output_type": "execute_result"
    }
   ],
   "source": [
    "#dataframe com o ultimo status do pedido\n",
    "df_ultimo_status = df.groupBy('txt_detl_idt_pedi_pgto').agg(max('dat_atui').alias('last_status_date')).withColumnRenamed('txt_detl_idt_pedi_pgto','txt_detl_idt_pedi_pgto_last')\n",
    "\n",
    "#Cruzamento entre o dataframe com todos os dados e seus ultimos status\n",
    "df_pedidos_ultimo_status = df.join(df_ultimo_status, (col('txt_detl_idt_pedi_pgto') == col('txt_detl_idt_pedi_pgto_last')) & (col('dat_atui') == col('last_status_date')),'inner').drop('txt_detl_idt_pedi_pgto_last')\n"
   ]
  },
  {
   "cell_type": "code",
   "execution_count": 0,
   "metadata": {
    "application/vnd.databricks.v1+cell": {
     "cellMetadata": {
      "byteLimit": 2048000,
      "rowLimit": 10000
     },
     "inputWidgets": {},
     "nuid": "d5554449-55df-481d-b960-7db40536d8d8",
     "showTitle": false,
     "title": ""
    }
   },
   "outputs": [
    {
     "output_type": "display_data",
     "data": {
      "text/html": [
       "<style scoped>\n",
       "  .table-result-container {\n",
       "    max-height: 300px;\n",
       "    overflow: auto;\n",
       "  }\n",
       "  table, th, td {\n",
       "    border: 1px solid black;\n",
       "    border-collapse: collapse;\n",
       "  }\n",
       "  th, td {\n",
       "    padding: 5px;\n",
       "  }\n",
       "  th {\n",
       "    text-align: left;\n",
       "  }\n",
       "</style><div class='table-result-container'><table class='table-result'><thead style='background-color: white'><tr><th>txt_detl_idt_pedi_pgto</th><th>cod_prod</th><th>cod_idef_clie</th><th>dat_atui</th><th>dat_hor_tran</th><th>stat_pedi</th><th>stat_pgto</th><th>cod_tipo_entg</th><th>cod_venr</th><th>dat_emis_cpvt</th><th>cod_prod_venr_ship</th><th>prod_desc</th><th>vendedor_desc</th><th>cod_oferta</th><th>vlr_original</th><th>vlr_desconto</th><th>qtd_item_pedi</th><th>calyear_key</th><th>calmonth_key</th></tr></thead><tbody><tr><td>WrtmmUd9hO0IY2C5</td><td>MKU-6G1qsyBPFERB8</td><td>customer-store</td><td>2022-11-17T20:11:55.419+0000</td><td>2022-07-14T00:20:27.107+0000</td><td>DELIVERED</td><td>PAID</td><td>null</td><td>V3mGU4wV0C</td><td>null</td><td>null</td><td>Rock in Rio 2022 - 08/09 - Setor Gramado</td><td>Easylive</td><td>62cdf4fbe3cc89ac64deb7cb</td><td>468.75</td><td>468.75</td><td>1</td><td>2022</td><td>11</td></tr><tr><td>8rQeIH1kGo6bV9c5</td><td>MKU-89HZXeJq6vudQ</td><td>customer-store</td><td>2022-07-16T06:11:49.482+0000</td><td>2022-07-16T06:11:38.489+0000</td><td>CANCELED</td><td>CANCELED</td><td>null</td><td>V3mGU4wV0C</td><td>null</td><td>null</td><td>Rock in Rio 2022 - 03/09 - Setor Gramado</td><td>Easylive</td><td>62cdf4fbe3cc89ac64deb7c9</td><td>468.75</td><td>468.75</td><td>1</td><td>2022</td><td>7</td></tr><tr><td>SMT1113589577463</td><td>MKU-9iSYhmyGMPHpM</td><td>customer-store</td><td>2023-05-15T18:03:26.260+0000</td><td>2023-05-11T13:58:33.181+0000</td><td>DELIVERED</td><td>PAID</td><td>PF1c599LF_Zm3</td><td>8dJAULm6us</td><td>null</td><td>4646195</td><td>Combo Natura Ekos</td><td>Top Store</td><td>64555c61d3a78500119f6518</td><td>106.5</td><td>59.9</td><td>1</td><td>2023</td><td>5</td></tr><tr><td>SMT1113589577463</td><td>MKU-tkv6tbv5AAquh</td><td>customer-store</td><td>2023-05-15T18:03:26.260+0000</td><td>2023-05-11T13:58:33.181+0000</td><td>DELIVERED</td><td>PAID</td><td>Egom7deHcoH3J</td><td>hxL9bHz7OO</td><td>2023-05-12T15:47:53.000Z</td><td>222419500_magazineluiza</td><td>Livro - Mindset</td><td>Magazine Luiza</td><td>626c239951dd578ff254c226</td><td>69.9</td><td>44.5</td><td>1</td><td>2023</td><td>5</td></tr><tr><td>OYT1516529715947</td><td>MKU-s6p435iTm8ylT</td><td>customer-store</td><td>2023-09-16T06:13:32.859+0000</td><td>2023-09-15T16:52:49.375+0000</td><td>SENT</td><td>PAID</td><td>ISO5TP2Hu3hWj</td><td>8dJAULm6us</td><td>null</td><td>4617245</td><td>Copo com Canudo Stanley Quencher 2.0 887ML Branco Cream</td><td>Top Store</td><td>6459e9ba7028520010374e10</td><td>285.0</td><td>228.0</td><td>1</td><td>2023</td><td>9</td></tr><tr><td>GHJ2619225280159</td><td>MKU-v70eo1eSiyCa8</td><td>customer-store</td><td>2023-07-27T18:39:00.798+0000</td><td>2023-07-26T19:22:05.262+0000</td><td>DELIVERED</td><td>PAID</td><td>aXwV1q50R7QxV</td><td>hxL9bHz7OO</td><td>null</td><td>220978300_magazineluiza</td><td>Sabonete Dove Original</td><td>Magazine Luiza</td><td>62f69ed096bd64d36672f00e</td><td>6.15</td><td>5.59</td><td>1</td><td>2023</td><td>7</td></tr></tbody></table></div>"
      ]
     },
     "metadata": {
      "application/vnd.databricks.v1+output": {
       "addedWidgets": {},
       "aggData": [],
       "aggError": "",
       "aggOverflow": false,
       "aggSchema": [],
       "aggSeriesLimitReached": false,
       "aggType": "",
       "arguments": {},
       "columnCustomDisplayInfos": {},
       "data": [
        [
         "WrtmmUd9hO0IY2C5",
         "MKU-6G1qsyBPFERB8",
         "customer-store",
         "2022-11-17T20:11:55.419+0000",
         "2022-07-14T00:20:27.107+0000",
         "DELIVERED",
         "PAID",
         null,
         "V3mGU4wV0C",
         null,
         null,
         "Rock in Rio 2022 - 08/09 - Setor Gramado",
         "Easylive",
         "62cdf4fbe3cc89ac64deb7cb",
         468.75,
         468.75,
         1,
         2022,
         11
        ],
        [
         "8rQeIH1kGo6bV9c5",
         "MKU-89HZXeJq6vudQ",
         "customer-store",
         "2022-07-16T06:11:49.482+0000",
         "2022-07-16T06:11:38.489+0000",
         "CANCELED",
         "CANCELED",
         null,
         "V3mGU4wV0C",
         null,
         null,
         "Rock in Rio 2022 - 03/09 - Setor Gramado",
         "Easylive",
         "62cdf4fbe3cc89ac64deb7c9",
         468.75,
         468.75,
         1,
         2022,
         7
        ],
        [
         "SMT1113589577463",
         "MKU-9iSYhmyGMPHpM",
         "customer-store",
         "2023-05-15T18:03:26.260+0000",
         "2023-05-11T13:58:33.181+0000",
         "DELIVERED",
         "PAID",
         "PF1c599LF_Zm3",
         "8dJAULm6us",
         null,
         "4646195",
         "Combo Natura Ekos",
         "Top Store",
         "64555c61d3a78500119f6518",
         106.5,
         59.9,
         1,
         2023,
         5
        ],
        [
         "SMT1113589577463",
         "MKU-tkv6tbv5AAquh",
         "customer-store",
         "2023-05-15T18:03:26.260+0000",
         "2023-05-11T13:58:33.181+0000",
         "DELIVERED",
         "PAID",
         "Egom7deHcoH3J",
         "hxL9bHz7OO",
         "2023-05-12T15:47:53.000Z",
         "222419500_magazineluiza",
         "Livro - Mindset",
         "Magazine Luiza",
         "626c239951dd578ff254c226",
         69.9,
         44.5,
         1,
         2023,
         5
        ],
        [
         "OYT1516529715947",
         "MKU-s6p435iTm8ylT",
         "customer-store",
         "2023-09-16T06:13:32.859+0000",
         "2023-09-15T16:52:49.375+0000",
         "SENT",
         "PAID",
         "ISO5TP2Hu3hWj",
         "8dJAULm6us",
         null,
         "4617245",
         "Copo com Canudo Stanley Quencher 2.0 887ML Branco Cream",
         "Top Store",
         "6459e9ba7028520010374e10",
         285.0,
         228.0,
         1,
         2023,
         9
        ],
        [
         "GHJ2619225280159",
         "MKU-v70eo1eSiyCa8",
         "customer-store",
         "2023-07-27T18:39:00.798+0000",
         "2023-07-26T19:22:05.262+0000",
         "DELIVERED",
         "PAID",
         "aXwV1q50R7QxV",
         "hxL9bHz7OO",
         null,
         "220978300_magazineluiza",
         "Sabonete Dove Original",
         "Magazine Luiza",
         "62f69ed096bd64d36672f00e",
         6.15,
         5.59,
         1,
         2023,
         7
        ]
       ],
       "datasetInfos": [],
       "dbfsResultPath": null,
       "isJsonSchema": true,
       "metadata": {},
       "overflow": false,
       "plotOptions": {
        "customPlotOptions": {},
        "displayType": "table",
        "pivotAggregation": null,
        "pivotColumns": null,
        "xColumns": null,
        "yColumns": null
       },
       "removedWidgets": [],
       "schema": [
        {
         "metadata": "{}",
         "name": "txt_detl_idt_pedi_pgto",
         "type": "\"string\""
        },
        {
         "metadata": "{}",
         "name": "cod_prod",
         "type": "\"string\""
        },
        {
         "metadata": "{}",
         "name": "cod_idef_clie",
         "type": "\"string\""
        },
        {
         "metadata": "{}",
         "name": "dat_atui",
         "type": "\"timestamp\""
        },
        {
         "metadata": "{}",
         "name": "dat_hor_tran",
         "type": "\"timestamp\""
        },
        {
         "metadata": "{}",
         "name": "stat_pedi",
         "type": "\"string\""
        },
        {
         "metadata": "{}",
         "name": "stat_pgto",
         "type": "\"string\""
        },
        {
         "metadata": "{}",
         "name": "cod_tipo_entg",
         "type": "\"string\""
        },
        {
         "metadata": "{}",
         "name": "cod_venr",
         "type": "\"string\""
        },
        {
         "metadata": "{}",
         "name": "dat_emis_cpvt",
         "type": "\"string\""
        },
        {
         "metadata": "{}",
         "name": "cod_prod_venr_ship",
         "type": "\"string\""
        },
        {
         "metadata": "{}",
         "name": "prod_desc",
         "type": "\"string\""
        },
        {
         "metadata": "{}",
         "name": "vendedor_desc",
         "type": "\"string\""
        },
        {
         "metadata": "{}",
         "name": "cod_oferta",
         "type": "\"string\""
        },
        {
         "metadata": "{}",
         "name": "vlr_original",
         "type": "\"double\""
        },
        {
         "metadata": "{}",
         "name": "vlr_desconto",
         "type": "\"double\""
        },
        {
         "metadata": "{}",
         "name": "qtd_item_pedi",
         "type": "\"long\""
        },
        {
         "metadata": "{}",
         "name": "calyear_key",
         "type": "\"integer\""
        },
        {
         "metadata": "{}",
         "name": "calmonth_key",
         "type": "\"integer\""
        }
       ],
       "type": "table"
      }
     },
     "output_type": "display_data"
    }
   ],
   "source": [
    "# lsita de colunas que serao selecionadas no dataframe final\n",
    "lista = ['txt_detl_idt_pedi_pgto','cod_prod','cod_idef_clie','dat_atui','dat_hor_tran','stat_pedi','stat_pgto','cod_tipo_entg','cod_venr','dat_emis_cpvt','cod_prod_venr_ship','qtd_prod_ship','stat_entg_ship','prod_desc','vendedor_desc','cod_oferta','vlr_original','vlr_desconto','qtd_item_pedi']\n",
    "\n",
    "#datarfame com os itens do pedido\n",
    "df_pedido_produto = df_pedidos_ultimo_status\\\n",
    "                 .withColumn('list_item_pedi', explode_outer(col('list_item_pedi')))\\\n",
    "                 .select('txt_detl_idt_pedi_pgto','list_item_pedi.*')\\\n",
    "                 .withColumnRenamed('cod_vrne_prod','cod_prod')\\\n",
    "                 .withColumnRenamed('nom_item','prod_desc')\\\n",
    "                 .withColumnRenamed('nom_venr','vendedor_desc')\\\n",
    "                 .withColumnRenamed('vlr_oril','vlr_original')\\\n",
    "                 .withColumnRenamed('vlr_prod','vlr_desconto')\\\n",
    "                 .withColumnRenamed('idt_venr','cod_venr')\\\n",
    "                 .withColumnRenamed('cod_ofrt_ineo_requ','cod_oferta')\\\n",
    "                 .select('txt_detl_idt_pedi_pgto','cod_prod','prod_desc','cod_venr','vendedor_desc','cod_oferta','vlr_original','vlr_desconto','qtd_item_pedi')\n",
    "\n",
    "#datarfame com os dados de pedidos e de envio\n",
    "df_pedido_envio = df_pedidos_ultimo_status\\\n",
    "            .withColumn('list_envo', explode_outer(col('list_envo')))\\\n",
    "            .withColumn('cod_prod_item',col('list_item_pedi.cod_vrne_prod').getItem(0))\\\n",
    "            .selectExpr('txt_detl_idt_pedi_pgto','cod_idef_clie','dat_atui','dat_hor_tran','stat_pedi','stat_pgto','list_envo.cod_tipo_entg','list_envo.cod_venr','list_envo.dat_emis_cpvt','list_envo.list_item_envo','cod_prod_item')\\\n",
    "            .withColumn('cod_prod',col('list_item_envo.cod_prod').getItem(0))\\\n",
    "            .withColumn('cod_prod',when(col('cod_prod').isNull(),col('cod_prod_item')).otherwise(col('cod_prod')))\\\n",
    "            .withColumn('cod_prod_venr_ship',col('list_item_envo.cod_prod_venr').getItem(0))\\\n",
    "            .withColumn('qtd_prod_ship',col('list_item_envo.qtd_prod').getItem(0))\\\n",
    "            .withColumn('stat_entg_ship',col('list_item_envo.stat_entg').getItem(0))\\\n",
    "            .drop('list_item_envo','cod_prod_item')\n",
    "\n",
    "\n",
    "#join entre as bases separando em dois dataframes por conta das chaves de join\n",
    "df_pedido_produto_null = df_pedido_envio.filter('cod_venr is null').drop('cod_venr').join(df_pedido_produto,[\"txt_detl_idt_pedi_pgto\",\"cod_prod\"],'left').select(lista)\n",
    "df_pedido_produto = df_pedido_envio.filter('cod_venr is not null').join(df_pedido_produto,[\"txt_detl_idt_pedi_pgto\",\"cod_prod\",\"cod_venr\"],'left').select(lista)\n",
    "\n",
    "#criação do dataframe final\n",
    "df_final = df_pedido_produto_null.union(df_pedido_produto).drop('qtd_prod_ship','stat_entg_ship').withColumn('calyear_key',year(col('dat_atui'))).withColumn('calmonth_key',month(col('dat_atui')))\n"
   ]
  },
  {
   "cell_type": "code",
   "execution_count": 0,
   "metadata": {
    "application/vnd.databricks.v1+cell": {
     "cellMetadata": {
      "byteLimit": 2048000,
      "rowLimit": 10000
     },
     "inputWidgets": {},
     "nuid": "474e3473-db2d-4abc-b680-993bc3626d70",
     "showTitle": false,
     "title": ""
    }
   },
   "outputs": [],
   "source": [
    "#escrita em parquet\n",
    "df_final.write.mode('append').partitionBy(\"calyear_key\", \"calmonth_key\").parquet('dbfs:/FileStore/bronze/tb_pedidos/')"
   ]
  }
 ],
 "metadata": {
  "application/vnd.databricks.v1+notebook": {
   "dashboards": [],
   "language": "python",
   "notebookMetadata": {
    "pythonIndentUnit": 4
   },
   "notebookName": "nomalização do json",
   "widgets": {}
  }
 },
 "nbformat": 4,
 "nbformat_minor": 0
}
